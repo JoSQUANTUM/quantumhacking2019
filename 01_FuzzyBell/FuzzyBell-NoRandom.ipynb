{
 "cells": [
  {
   "cell_type": "code",
   "execution_count": 48,
   "metadata": {},
   "outputs": [],
   "source": [
    "from qiskit import *\n",
    "from qiskit import IBMQ\n",
    "import math\n",
    "from qiskit.tools.visualization import plot_histogram"
   ]
  },
  {
   "cell_type": "markdown",
   "metadata": {},
   "source": [
    "# The complete circuit (classically controlled gates are not possible yet)"
   ]
  },
  {
   "cell_type": "code",
   "execution_count": 49,
   "metadata": {},
   "outputs": [
    {
     "data": {
      "text/html": [
       "<pre style=\"word-wrap: normal;white-space: pre;background: #fff0;line-height: 1.1;font-family: &quot;Courier New&quot;,Courier,monospace\">          ┌───┐┌─┐                                                             \n",
       "q21_0: |0>┤ H ├┤M├─────────────────────────────────────────────────────────────\n",
       "          ├───┤└╥┘┌─┐                                                          \n",
       "q21_1: |0>┤ H ├─╫─┤M├──────────────────────────────────────────────────────────\n",
       "          ├───┤ ║ └╥┘         ┌───┐ ┌─┐                                        \n",
       "q22_0: |0>┤ H ├─╫──╫───■───■──┤ H ├─┤M├────────────────────────────────────────\n",
       "          └───┘ ║  ║ ┌─┴─┐ │  ├─┼─┤ └╥┘┌────────────────┐┌─────────────────┐┌─┐\n",
       "q22_1: |0>──────╫──╫─┤ X ├─■──┤ X ├──╫─┤ U3(2.3562,0,0) ├┤ U3(-4.7124,0,0) ├┤M├\n",
       "                ║  ║ └───┘   ┌┴─┴─┴┐ ║ └────────────────┘└────────┬────────┘└╥┘\n",
       " c17_0: 0 ══════╩══╬═════════╡ = 1 ╞═╬════════════════════════════╪══════════╬═\n",
       "                   ║         └─────┘ ║                         ┌──┴──┐       ║ \n",
       " c18_0: 0 ═════════╩═════════════════╬═════════════════════════╡ = 1 ╞═══════╬═\n",
       "                                     ║                         └─────┘       ║ \n",
       " c19_0: 0 ═══════════════════════════╩═══════════════════════════════════════╬═\n",
       "                                                                             ║ \n",
       " c19_1: 0 ═══════════════════════════════════════════════════════════════════╩═\n",
       "                                                                               </pre>"
      ],
      "text/plain": [
       "<qiskit.visualization.text.TextDrawing at 0x7fbd883bf940>"
      ]
     },
     "execution_count": 49,
     "metadata": {},
     "output_type": "execute_result"
    }
   ],
   "source": [
    "# Here we generate the random control bits for A and B.\n",
    "randomBit_A=ClassicalRegister(1)\n",
    "randomBit_B=ClassicalRegister(1)\n",
    "randomQubit=QuantumRegister(2)\n",
    "bellQubits=QuantumRegister(2)\n",
    "resultBits=ClassicalRegister(2)\n",
    "qc=QuantumCircuit(randomBit_A,randomBit_B,randomQubit,bellQubits,resultBits);\n",
    "\n",
    "\n",
    "# Create the random input for A and B\n",
    "qc.h(randomQubit[0])\n",
    "qc.h(randomQubit[1])\n",
    "qc.measure(randomQubit[0],randomBit_A)\n",
    "qc.measure(randomQubit[1],randomBit_B)\n",
    "\n",
    "# Create the Bell states (we need 01-10)\n",
    "qc.h(bellQubits[0])\n",
    "qc.cx(bellQubits[0],bellQubits[1])\n",
    "qc.cz(bellQubits[0],bellQubits[1])\n",
    "qc.x(bellQubits[1])\n",
    "\n",
    "# turn the Measurement bases.\n",
    "qc.h(bellQubits[0]).c_if(randomBit_A,1)\n",
    "qc.u3(2.3562,0,0,bellQubits[1])\n",
    "qc.u3(-2.3562*2,0,0,bellQubits[1]).c_if(randomBit_B,1)\n",
    "\n",
    "# Measure now System A and B in the standard bases.\n",
    "qc.measure(bellQubits,resultBits)\n",
    "\n",
    "qc.draw()"
   ]
  },
  {
   "cell_type": "code",
   "execution_count": 40,
   "metadata": {},
   "outputs": [
    {
     "name": "stdout",
     "output_type": "stream",
     "text": [
      "[ 0.        +0.j -0.70710678+0.j  0.70710678+0.j  0.        +0.j]\n"
     ]
    }
   ],
   "source": [
    "# Just verify that we really get the state vector.\n",
    "job=execute(qc,Aer.get_backend('statevector_simulator'))\n",
    "print(job.result().get_statevector())"
   ]
  },
  {
   "cell_type": "markdown",
   "metadata": {},
   "source": [
    "# Experiment for Bell00 (A measures Q, B measures S) "
   ]
  },
  {
   "cell_type": "code",
   "execution_count": 28,
   "metadata": {},
   "outputs": [
    {
     "data": {
      "image/png": "[encoded data removed]",
      "text/plain": [
       "<Figure size 504x360 with 1 Axes>"
      ]
     },
     "execution_count": 28,
     "metadata": {},
     "output_type": "execute_result"
    }
   ],
   "source": [
    "# Here we generate the random control bits for A and B.\n",
    "bellQubits=QuantumRegister(2)\n",
    "resultBits=ClassicalRegister(2)\n",
    "qc=QuantumCircuit(bellQubits,resultBits);\n",
    "\n",
    "# Create the Bell states (we need 01-10)\n",
    "qc.h(bellQubits[0])\n",
    "qc.cx(bellQubits[0],bellQubits[1])\n",
    "qc.cz(bellQubits[0],bellQubits[1])\n",
    "qc.x(bellQubits[1])\n",
    "\n",
    "# turn the Measurement bases.\n",
    "#qc.h(bellQubits[0]) \n",
    "qc.u3(2.3562,0,0,bellQubits[1])\n",
    "#qc.u3(-2.3562*2,0,0,bellQubits[1]) \n",
    "\n",
    "# Measure now System A and B in the standard bases.\n",
    "qc.measure(bellQubits,resultBits)\n",
    "\n",
    "job=execute(qc,Aer.get_backend('qasm_simulator'),shots=10000)\n",
    "r=job.result().get_counts()\n",
    "plot_histogram(r)\n"
   ]
  },
  {
   "cell_type": "markdown",
   "metadata": {},
   "source": [
    "# Experiment for  Bell10 (A measures R, B measures S)"
   ]
  },
  {
   "cell_type": "code",
   "execution_count": 31,
   "metadata": {},
   "outputs": [
    {
     "data": {
      "image/png": "[encoded data removed]",
      "text/plain": [
       "<Figure size 504x360 with 1 Axes>"
      ]
     },
     "execution_count": 31,
     "metadata": {},
     "output_type": "execute_result"
    }
   ],
   "source": [
    "# Here we generate the random control bits for A and B.\n",
    "bellQubits=QuantumRegister(2)\n",
    "resultBits=ClassicalRegister(2)\n",
    "qc=QuantumCircuit(bellQubits,resultBits);\n",
    "\n",
    "# Create the Bell states (we need 01-10)\n",
    "qc.h(bellQubits[0])\n",
    "qc.cx(bellQubits[0],bellQubits[1])\n",
    "qc.cz(bellQubits[0],bellQubits[1])\n",
    "qc.x(bellQubits[1])\n",
    "\n",
    "# turn the Measurement bases.\n",
    "qc.h(bellQubits[0]) \n",
    "qc.u3(2.3562,0,0,bellQubits[1])\n",
    "#qc.u3(-2.3562*2,0,0,bellQubits[1]) \n",
    "\n",
    "# Measure now System A and B in the standard bases.\n",
    "qc.measure(bellQubits,resultBits)\n",
    "\n",
    "job=execute(qc,Aer.get_backend('qasm_simulator'),shots=10000)\n",
    "r=job.result().get_counts()\n",
    "plot_histogram(r)"
   ]
  },
  {
   "cell_type": "markdown",
   "metadata": {},
   "source": [
    "# Experiment for Bell01 (A measures Q, B measures T)"
   ]
  },
  {
   "cell_type": "code",
   "execution_count": 32,
   "metadata": {},
   "outputs": [
    {
     "data": {
      "image/png": "[encoded data removed]",
      "text/plain": [
       "<Figure size 504x360 with 1 Axes>"
      ]
     },
     "execution_count": 32,
     "metadata": {},
     "output_type": "execute_result"
    }
   ],
   "source": [
    "# Here we generate the random control bits for A and B.\n",
    "bellQubits=QuantumRegister(2)\n",
    "resultBits=ClassicalRegister(2)\n",
    "qc=QuantumCircuit(bellQubits,resultBits);\n",
    "\n",
    "# Create the Bell states (we need 01-10)\n",
    "qc.h(bellQubits[0])\n",
    "qc.cx(bellQubits[0],bellQubits[1])\n",
    "qc.cz(bellQubits[0],bellQubits[1])\n",
    "qc.x(bellQubits[1])\n",
    "\n",
    "# turn the Measurement bases.\n",
    "#qc.h(bellQubits[0]) \n",
    "qc.u3(2.3562,0,0,bellQubits[1])\n",
    "qc.u3(-2.3562*2,0,0,bellQubits[1]) \n",
    "\n",
    "# Measure now System A and B in the standard bases.\n",
    "qc.measure(bellQubits,resultBits)\n",
    "\n",
    "job=execute(qc,Aer.get_backend('qasm_simulator'),shots=10000)\n",
    "r=job.result().get_counts()\n",
    "plot_histogram(r)"
   ]
  },
  {
   "cell_type": "markdown",
   "metadata": {},
   "source": [
    "# Experiment for Bell11 (A measures R, B measures T)"
   ]
  },
  {
   "cell_type": "code",
   "execution_count": 51,
   "metadata": {},
   "outputs": [
    {
     "data": {
      "image/png": "[encoded data removed]",
      "text/plain": [
       "<Figure size 504x360 with 1 Axes>"
      ]
     },
     "execution_count": 51,
     "metadata": {},
     "output_type": "execute_result"
    }
   ],
   "source": [
    "# Here we generate the random control bits for A and B.\n",
    "bellQubits=QuantumRegister(2)\n",
    "resultBits=ClassicalRegister(2)\n",
    "qc=QuantumCircuit(bellQubits,resultBits);\n",
    "\n",
    "# Create the Bell states (we need 01-10)\n",
    "qc.h(bellQubits[0])\n",
    "qc.cx(bellQubits[0],bellQubits[1])\n",
    "qc.cz(bellQubits[0],bellQubits[1])\n",
    "qc.x(bellQubits[1])\n",
    "\n",
    "# turn the Measurement bases.\n",
    "qc.h(bellQubits[0]) \n",
    "qc.u3(2.3562,0,0,bellQubits[1])\n",
    "qc.u3(-2.3562*2,0,0,bellQubits[1]) \n",
    "\n",
    "# Measure now System A and B in the standard bases.\n",
    "qc.measure(bellQubits,resultBits)\n",
    "\n",
    "job=execute(qc,Aer.get_backend('qasm_simulator'),shots=10000)\n",
    "r=job.result().get_counts()\n",
    "plot_histogram(r)"
   ]
  },
  {
   "cell_type": "markdown",
   "metadata": {},
   "source": [
    "# Execute a circuit on a device"
   ]
  },
  {
   "cell_type": "code",
   "execution_count": 50,
   "metadata": {},
   "outputs": [],
   "source": [
    "IBMQ.load_account()"
   ]
  },
  {
   "cell_type": "code",
   "execution_count": 52,
   "metadata": {},
   "outputs": [
    {
     "data": {
      "image/png": "[encoded data removed]",
      "text/plain": [
       "<Figure size 504x360 with 1 Axes>"
      ]
     },
     "execution_count": 52,
     "metadata": {},
     "output_type": "execute_result"
    }
   ],
   "source": [
    "# Note: Choose one of the above Bell00, Bell01, Bell10, Bell11 circuits as qc.\n",
    "\n",
    "provider = IBMQ.get_provider(hub='ibm-q')\n",
    "provider.backends()\n",
    "#for backend in provider.backends():\n",
    "#    print( backend.status() )\n",
    "#real_device = provider.get_backend('ibmqx2')\n",
    "real_device = provider.get_backend('ibmq_qasm_simulator')\n",
    "job=execute(qc,real_device)\n",
    "r2=job.result().get_counts()\n",
    "plot_histogram(r2)"
   ]
  },
  {
   "cell_type": "markdown",
   "metadata": {},
   "source": [
    "# Our result (ibmqx2 hardware)"
   ]
  },
  {
   "cell_type": "code",
   "execution_count": 46,
   "metadata": {},
   "outputs": [
    {
     "name": "stdout",
     "output_type": "stream",
     "text": [
      "0.708984375 0.57421875 0.595703125 -0.513671875  ==>  2.392578125\n"
     ]
    }
   ],
   "source": [
    "res00=[388,77,72,487]\n",
    "res01=[350,117,101,456]\n",
    "res10=[410,141,66,407]\n",
    "res11=[64,490,285,185]\n",
    "\n",
    "v0=(res00[0]+res00[3]-res00[1]-res00[2])/(res00[0]+res00[3]+res00[1]+res00[2])\n",
    "v1=(res01[0]+res01[3]-res01[1]-res01[2])/(res01[0]+res01[3]+res01[1]+res01[2])\n",
    "v2=(res10[0]+res10[3]-res10[1]-res10[2])/(res10[0]+res10[3]+res10[1]+res10[2])\n",
    "v3=(res11[0]+res11[3]-res11[1]-res11[2])/(res11[0]+res11[3]+res11[1]+res11[2])\n",
    "\n",
    "# Each should be sqrt(1/2) or -sqrt(1/2). The sum could be roughly 2.8\n",
    "print(v0,v1,v2,v3,\" ==> \",v0+v1+v2-v3)"
   ]
  }
 ],
 "metadata": {
  "kernelspec": {
   "display_name": "Python 3",
   "language": "python",
   "name": "python3"
  },
  "language_info": {
   "codemirror_mode": {
    "name": "ipython",
    "version": 3
   },
   "file_extension": ".py",
   "mimetype": "text/x-python",
   "name": "python",
   "nbconvert_exporter": "python",
   "pygments_lexer": "ipython3",
   "version": "3.7.2"
  }
 },
 "nbformat": 4,
 "nbformat_minor": 2
}
