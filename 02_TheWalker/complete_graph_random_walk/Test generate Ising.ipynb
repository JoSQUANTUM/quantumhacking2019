{
 "cells": [
  {
   "cell_type": "code",
   "execution_count": 35,
   "metadata": {},
   "outputs": [],
   "source": [
    "import sys\n",
    "sys.path.append(\".\")\n",
    "\n",
    "from bruteforce_search import BinarySequenceIter\n",
    "import matplotlib.pyplot as plt\n",
    "import random_ising\n",
    "\n",
    "%matplotlib inline"
   ]
  },
  {
   "cell_type": "code",
   "execution_count": 66,
   "metadata": {},
   "outputs": [],
   "source": [
    "### Parameters\n",
    "\n",
    "n = 10 # Number of vertices\n",
    "\n",
    "### Main program\n",
    "\n",
    "edges = random_ising.random_max_cut_ising(n)\n",
    "energies = []\n",
    "\n",
    "# Iterate over the 2^n possible sequences of n bits. Bit k in the sequence represents the state of the k-th qubit.\n",
    "\n",
    "for seq in BinarySequenceIter(n):\n",
    "    # Compute and save the energy corresponding to the configuration described by the sequence.\n",
    "    \n",
    "    energy = 0\n",
    "    for edge, J in edges.items():\n",
    "        energy += J * (1 if seq[edge[0]] == seq[edge[1]] else -1)\n",
    "    energies.append(energy)"
   ]
  },
  {
   "cell_type": "code",
   "execution_count": 67,
   "metadata": {},
   "outputs": [
    {
     "data": {
      "text/plain": [
       "(array([ 22.,  32.,  88., 374., 216., 152., 114.,  24.,   0.,   2.]),\n",
       " array([-11. ,  -8.4,  -5.8,  -3.2,  -0.6,   2. ,   4.6,   7.2,   9.8,\n",
       "         12.4,  15. ]),\n",
       " <a list of 10 Patch objects>)"
      ]
     },
     "execution_count": 67,
     "metadata": {},
     "output_type": "execute_result"
    },
    {
     "data": {
      "image/png": "[encoded data removed]",
      "text/plain": [
       "<Figure size 432x288 with 1 Axes>"
      ]
     },
     "metadata": {
      "needs_background": "light"
     },
     "output_type": "display_data"
    }
   ],
   "source": [
    "plt.hist(energies)"
   ]
  }
 ],
 "metadata": {
  "kernelspec": {
   "display_name": "Python 3",
   "language": "python",
   "name": "python3"
  },
  "language_info": {
   "codemirror_mode": {
    "name": "ipython",
    "version": 3
   },
   "file_extension": ".py",
   "mimetype": "text/x-python",
   "name": "python",
   "nbconvert_exporter": "python",
   "pygments_lexer": "ipython3",
   "version": "3.7.3"
  }
 },
 "nbformat": 4,
 "nbformat_minor": 2
}
